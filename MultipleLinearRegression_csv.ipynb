{
  "nbformat": 4,
  "nbformat_minor": 0,
  "metadata": {
    "colab": {
      "provenance": [],
      "authorship_tag": "ABX9TyPNCdxWrYadF7bQ3oYw6a3P",
      "include_colab_link": true
    },
    "kernelspec": {
      "name": "python3",
      "display_name": "Python 3"
    },
    "language_info": {
      "name": "python"
    }
  },
  "cells": [
    {
      "cell_type": "markdown",
      "metadata": {
        "id": "view-in-github",
        "colab_type": "text"
      },
      "source": [
        "<a href=\"https://colab.research.google.com/github/gautham-praj/TrainingSessionsOnDataMining/blob/main/MultipleLinearRegression_csv.ipynb\" target=\"_parent\"><img src=\"https://colab.research.google.com/assets/colab-badge.svg\" alt=\"Open In Colab\"/></a>"
      ]
    },
    {
      "cell_type": "code",
      "execution_count": 1,
      "metadata": {
        "colab": {
          "base_uri": "https://localhost:8080/"
        },
        "id": "Uej5LEe8RVR8",
        "outputId": "614dd2a8-1ce8-49af-be5f-7c2cb61557c7"
      },
      "outputs": [
        {
          "output_type": "stream",
          "name": "stdout",
          "text": [
            "Coefficients: [-8.78504673e+01  1.31542056e+05]\n",
            "Intercept: 95841.12149532721\n",
            "Predictions: [349906.54205607 428738.31775701]\n",
            "Coefficient for square footage: -87.85046728971976\n",
            "Coefficient for number of bedrooms: 131542.05607476638\n"
          ]
        }
      ],
      "source": [
        "import numpy as np\n",
        "import pandas as pd\n",
        "from sklearn.linear_model import LinearRegression\n",
        "\n",
        "def main():\n",
        "    # Read data from CSV file\n",
        "    df = pd.read_csv(\"house_data.csv\")\n",
        "    X = df[[\"square_footage\", \"bedrooms\"]].values  # Features (square footage, bedrooms)\n",
        "    y = df[\"price\"].values  # Target (house prices)\n",
        "\n",
        "    # Create a Linear Regression model\n",
        "    model = LinearRegression()\n",
        "\n",
        "    # Train the model (fit the data)\n",
        "    model.fit(X, y)\n",
        "\n",
        "    # Get the coefficients (slopes) and intercept\n",
        "    coefficients = model.coef_\n",
        "    intercept = model.intercept_\n",
        "\n",
        "    print(\"Coefficients:\", coefficients)\n",
        "    print(\"Intercept:\", intercept)\n",
        "\n",
        "    # Make predictions\n",
        "    new_data = np.array([[1600, 3], [2200, 4]])  # Example new data\n",
        "    predictions = model.predict(new_data)\n",
        "\n",
        "    print(\"Predictions:\", predictions)\n",
        "\n",
        "    # Example of accessing single values\n",
        "    print(f\"Coefficient for square footage: {coefficients[0]}\")\n",
        "    print(f\"Coefficient for number of bedrooms: {coefficients[1]}\")\n",
        "\n",
        "if __name__ == \"__main__\":\n",
        "    main()\n"
      ]
    }
  ]
}