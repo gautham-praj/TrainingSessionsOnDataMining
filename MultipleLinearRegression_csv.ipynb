{
  "nbformat": 4,
  "nbformat_minor": 0,
  "metadata": {
    "colab": {
      "provenance": [],
      "authorship_tag": "ABX9TyPNCdxWrYadF7bQ3oYw6a3P",
      "include_colab_link": true
    },
    "kernelspec": {
      "name": "python3",
      "display_name": "Python 3"
    },
    "language_info": {
      "name": "python"
    }
  },
  "cells": [
    {
      "cell_type": "markdown",
      "metadata": {
        "id": "view-in-github",
        "colab_type": "text"
      },
      "source": [
        "<a href=\"https://colab.research.google.com/github/gautham-praj/TrainingSessionsOnDataMining/blob/main/MultipleLinearRegression_csv.ipynb\" target=\"_parent\"><img src=\"https://colab.research.google.com/assets/colab-badge.svg\" alt=\"Open In Colab\"/></a>"
      ]
    },
    {
      "cell_type": "code",
      "execution_count": 1,
      "metadata": {
        "colab": {
          "base_uri": "https://localhost:8080/"
        },
        "id": "Uej5LEe8RVR8",
        "outputId": "f372e4d1-0f44-422b-e07a-9427ee83e807"
      },
      "outputs": [
        {
          "output_type": "stream",
          "name": "stdout",
          "text": [
            "Coefficients: [ 156.48414986 7809.79827089]\n",
            "Intercept: 87406.34005763676\n",
            "Predictions: [361210.37463977 462910.66282421]\n",
            "Coefficient for square footage: 156.48414985590787\n",
            "Coefficient for number of bedrooms: 7809.798270893372\n"
          ]
        }
      ],
      "source": [
        "import numpy as np\n",
        "import pandas as pd\n",
        "from sklearn.linear_model import LinearRegression\n",
        "\n",
        "def main():\n",
        "    # Read data from CSV file\n",
        "    df = pd.read_csv(\"house_data.csv\")\n",
        "    X = df[[\"square_footage\", \"bedrooms\"]].values  # Features (square footage, bedrooms)\n",
        "    y = df[\"price\"].values  # Target (house prices)\n",
        "\n",
        "    # Create a Linear Regression model\n",
        "    model = LinearRegression()\n",
        "\n",
        "    # Train the model (fit the data)\n",
        "    model.fit(X, y)\n",
        "\n",
        "    # Get the coefficients (slopes) and intercept\n",
        "    coefficients = model.coef_\n",
        "    intercept = model.intercept_\n",
        "\n",
        "    print(\"Coefficients:\", coefficients)\n",
        "    print(\"Intercept:\", intercept)\n",
        "\n",
        "    # Make predictions\n",
        "    new_data = np.array([[1600, 3], [2200, 4]])  # Example new data\n",
        "    predictions = model.predict(new_data)\n",
        "\n",
        "    print(\"Predictions:\", predictions)\n",
        "\n",
        "    # Example of accessing single values\n",
        "    print(f\"Coefficient for square footage: {coefficients[0]}\")\n",
        "    print(f\"Coefficient for number of bedrooms: {coefficients[1]}\")\n",
        "\n",
        "if __name__ == \"__main__\":\n",
        "    main()\n"
      ]
    }
  ]
}