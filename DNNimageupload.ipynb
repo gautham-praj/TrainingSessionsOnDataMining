{
  "nbformat": 4,
  "nbformat_minor": 0,
  "metadata": {
    "colab": {
      "provenance": [],
      "authorship_tag": "ABX9TyMnTG6uuUZ9CZ/cqmByhFKV",
      "include_colab_link": true
    },
    "kernelspec": {
      "name": "python3",
      "display_name": "Python 3"
    },
    "language_info": {
      "name": "python"
    }
  },
  "cells": [
    {
      "cell_type": "markdown",
      "metadata": {
        "id": "view-in-github",
        "colab_type": "text"
      },
      "source": [
        "<a href=\"https://colab.research.google.com/github/gautham-praj/TrainingSessionsOnDataMining/blob/main/DNNimageupload.ipynb\" target=\"_parent\"><img src=\"https://colab.research.google.com/assets/colab-badge.svg\" alt=\"Open In Colab\"/></a>"
      ]
    },
    {
      "cell_type": "code",
      "execution_count": 1,
      "metadata": {
        "id": "PIpozsvz2HAO"
      },
      "outputs": [],
      "source": [
        "import tensorflow as tf\n",
        "from tensorflow import keras\n",
        "from tensorflow.keras.layers import Dense, Flatten, Rescaling\n",
        "import matplotlib.pyplot as plt\n",
        "import os\n",
        "import numpy as np"
      ]
    },
    {
      "cell_type": "code",
      "source": [
        "# 1. Mount Google Drive\n",
        "from google.colab import drive\n",
        "drive.mount('/content/drive')\n",
        "\n",
        "# Define dataset paths\n",
        "base_dir = \"/content/drive/MyDrive/handwritten/\"\n",
        "train_dir = os.path.join(base_dir, \"train\")\n",
        "test_dir = os.path.join(base_dir, \"test\")\n",
        "\n",
        "# Image parameters\n",
        "img_height = 28\n",
        "img_width = 28\n",
        "batch_size = 32"
      ],
      "metadata": {
        "colab": {
          "base_uri": "https://localhost:8080/"
        },
        "id": "wDyFRnAk2TWJ",
        "outputId": "b58403c2-4645-42dd-b981-363081420981"
      },
      "execution_count": 2,
      "outputs": [
        {
          "output_type": "stream",
          "name": "stdout",
          "text": [
            "Mounted at /content/drive\n"
          ]
        }
      ]
    },
    {
      "cell_type": "code",
      "source": [
        "# 2. Load dataset from Drive\n",
        "train_ds = keras.preprocessing.image_dataset_from_directory(\n",
        "    train_dir,\n",
        "    image_size=(img_height, img_width),\n",
        "    color_mode=\"grayscale\",  # Convert to grayscale\n",
        "    batch_size=batch_size,\n",
        "    label_mode=\"categorical\"  # One-hot encoded labels\n",
        ")\n",
        "test_ds = keras.preprocessing.image_dataset_from_directory(\n",
        "    test_dir,\n",
        "    image_size=(img_height, img_width),\n",
        "    color_mode=\"grayscale\",\n",
        "    batch_size=batch_size,\n",
        "    label_mode=\"categorical\"\n",
        ")\n",
        "\n",
        "# Optimize dataset loading\n",
        "AUTOTUNE = tf.data.AUTOTUNE\n",
        "train_ds = train_ds.prefetch(buffer_size=AUTOTUNE)\n",
        "test_ds = test_ds.prefetch(buffer_size=AUTOTUNE)"
      ],
      "metadata": {
        "colab": {
          "base_uri": "https://localhost:8080/"
        },
        "id": "4Jm-b5G62hRE",
        "outputId": "b65a7a49-1709-4145-95d7-8133d1691746"
      },
      "execution_count": 3,
      "outputs": [
        {
          "output_type": "stream",
          "name": "stdout",
          "text": [
            "Found 307 files belonging to 10 classes.\n",
            "Found 133 files belonging to 10 classes.\n"
          ]
        }
      ]
    },
    {
      "cell_type": "code",
      "source": [
        "# 3. Define the model\n",
        "model = keras.Sequential([\n",
        "    Rescaling(1.0 / 255, input_shape=(img_height, img_width, 1)),  # Normalize input images\n",
        "    Flatten(),  # Flatten image to 1D array\n",
        "    Dense(128, activation='relu'),\n",
        "    Dense(10, activation='softmax')\n",
        "])"
      ],
      "metadata": {
        "colab": {
          "base_uri": "https://localhost:8080/"
        },
        "id": "ocfgNIRQ2ja6",
        "outputId": "3c6995dc-5cdd-4074-c5d8-7ea55cc82019"
      },
      "execution_count": 4,
      "outputs": [
        {
          "output_type": "stream",
          "name": "stderr",
          "text": [
            "/usr/local/lib/python3.11/dist-packages/keras/src/layers/preprocessing/tf_data_layer.py:19: UserWarning: Do not pass an `input_shape`/`input_dim` argument to a layer. When using Sequential models, prefer using an `Input(shape)` object as the first layer in the model instead.\n",
            "  super().__init__(**kwargs)\n"
          ]
        }
      ]
    },
    {
      "cell_type": "code",
      "source": [
        "# 4. Compile the model\n",
        "model.compile(optimizer='adam',\n",
        "              loss='categorical_crossentropy',\n",
        "              metrics=['accuracy'])"
      ],
      "metadata": {
        "id": "rZ1i_K4D2quJ"
      },
      "execution_count": 5,
      "outputs": []
    },
    {
      "cell_type": "code",
      "source": [
        "# 5. Train the model\n",
        "model.fit(train_ds, epochs=5)\n",
        "\n",
        "# 6. Evaluate on test data\n",
        "loss, accuracy = model.evaluate(test_ds, verbose=1)\n",
        "print('Test loss:', loss)\n",
        "print('Test accuracy:', accuracy)\n"
      ],
      "metadata": {
        "colab": {
          "base_uri": "https://localhost:8080/"
        },
        "id": "1Rrp28cz2r9-",
        "outputId": "8bca4029-b6c0-4dda-d50e-c2e9307e3d7d"
      },
      "execution_count": 6,
      "outputs": [
        {
          "output_type": "stream",
          "name": "stdout",
          "text": [
            "Epoch 1/5\n",
            "\u001b[1m10/10\u001b[0m \u001b[32m━━━━━━━━━━━━━━━━━━━━\u001b[0m\u001b[37m\u001b[0m \u001b[1m52s\u001b[0m 5s/step - accuracy: 0.1411 - loss: 2.5942\n",
            "Epoch 2/5\n",
            "\u001b[1m10/10\u001b[0m \u001b[32m━━━━━━━━━━━━━━━━━━━━\u001b[0m\u001b[37m\u001b[0m \u001b[1m32s\u001b[0m 86ms/step - accuracy: 0.2552 - loss: 2.2160\n",
            "Epoch 3/5\n",
            "\u001b[1m10/10\u001b[0m \u001b[32m━━━━━━━━━━━━━━━━━━━━\u001b[0m\u001b[37m\u001b[0m \u001b[1m1s\u001b[0m 92ms/step - accuracy: 0.2643 - loss: 2.0582\n",
            "Epoch 4/5\n",
            "\u001b[1m10/10\u001b[0m \u001b[32m━━━━━━━━━━━━━━━━━━━━\u001b[0m\u001b[37m\u001b[0m \u001b[1m1s\u001b[0m 94ms/step - accuracy: 0.3495 - loss: 1.8980\n",
            "Epoch 5/5\n",
            "\u001b[1m10/10\u001b[0m \u001b[32m━━━━━━━━━━━━━━━━━━━━\u001b[0m\u001b[37m\u001b[0m \u001b[1m1s\u001b[0m 95ms/step - accuracy: 0.3781 - loss: 1.7878\n",
            "\u001b[1m5/5\u001b[0m \u001b[32m━━━━━━━━━━━━━━━━━━━━\u001b[0m\u001b[37m\u001b[0m \u001b[1m21s\u001b[0m 4s/step - accuracy: 0.2265 - loss: 2.0461\n",
            "Test loss: 2.0549421310424805\n",
            "Test accuracy: 0.24060150980949402\n"
          ]
        }
      ]
    },
    {
      "cell_type": "code",
      "source": [
        "# 7. Make predictions (optional)\n",
        "predictions = model.predict(test_ds)\n",
        "predicted_labels = tf.argmax(predictions, axis=1)\n",
        "\n",
        "# Convert predictions to numpy array\n",
        "predicted_labels = predicted_labels.numpy()\n",
        "print(\"Predicted labels:\", predicted_labels)"
      ],
      "metadata": {
        "colab": {
          "base_uri": "https://localhost:8080/"
        },
        "id": "cYQTTRG22-Hd",
        "outputId": "52df93aa-20f4-494f-bf01-5c33aaef3213"
      },
      "execution_count": 7,
      "outputs": [
        {
          "output_type": "stream",
          "name": "stdout",
          "text": [
            "\u001b[1m5/5\u001b[0m \u001b[32m━━━━━━━━━━━━━━━━━━━━\u001b[0m\u001b[37m\u001b[0m \u001b[1m1s\u001b[0m 86ms/step\n",
            "Predicted labels: [8 8 8 8 0 8 8 8 2 9 8 8 8 8 8 9 9 8 8 8 8 8 8 8 9 9 8 8 8 8 8 8 0 8 8 8 8\n",
            " 8 0 8 8 8 8 8 8 8 8 8 0 8 2 8 8 8 8 9 8 8 8 8 8 8 8 8 8 8 8 8 8 8 8 8 8 8\n",
            " 8 8 0 8 2 8 8 2 8 8 8 0 8 8 9 8 8 8 8 8 8 8 8 8 8 8 8 9 8 0 8 8 8 8 8 8 8\n",
            " 2 8 2 8 8 8 8 8 8 8 8 0 2 0 9 9 9 8 8 8 8 8]\n"
          ]
        }
      ]
    }
  ]
}